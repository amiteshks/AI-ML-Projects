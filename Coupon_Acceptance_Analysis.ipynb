{
 "cells": [
  {
   "cell_type": "markdown",
   "metadata": {
    "id": "CcUT6Fon_qRE"
   },
   "source": [
    "### Goal: Analyzing User Behavior for Coupon Acceptance: Insights and Pattern\n",
    "\n",
    "**Objective**\n",
    "\n",
    "Objective of this project is to identify if a user would accept a coupon offered based on its attributes, such as age, direction, current time, weather, passenger, etc\n",
    "\n",
    "**Data**\n",
    "\n",
    "This data comes to us from the UCI Machine Learning repository and was collected via a survey on Amazon Mechanical Turk. The survey describes different driving scenarios including the destination, current time, weather, passenger, etc., and then ask the person whether he will accept the coupon if he is the driver. Answers that the user will drive there ‘right away’ or ‘later before the coupon expires’ are labeled as ‘Y = 1’ and answers ‘no, I do not want the coupon’ are labeled as ‘Y = 0’.  There are five different types of coupons -- less expensive restaurants (under USD20), coffee houses, carry out & take away, bar, and more expensive restaurants (USD20 - USD50)."
   ]
  },
  {
   "cell_type": "markdown",
   "metadata": {
    "id": "pG6_Ym6q_qRG"
   },
   "source": [
    "### Data Description\n",
    "Keep in mind that these values mentioned below are average values.\n",
    "\n",
    "The attributes of this data set include:\n",
    "1. User attributes\n",
    "    -  Gender: male, female\n",
    "    -  Age: below 21, 21 to 25, 26 to 30, etc.\n",
    "    -  Marital Status: single, married partner, unmarried partner, or widowed\n",
    "    -  Number of children: 0, 1, or more than 1\n",
    "    -  Education: high school, bachelors degree, associates degree, or graduate degree\n",
    "    -  Occupation: architecture & engineering, business & financial, etc.\n",
    "    -  Annual income: less than \\\\$12500, \\\\$12500 - \\\\$24999, \\\\$25000 - \\\\$37499, etc.\n",
    "    -  Number of times that he/she goes to a bar: 0, less than 1, 1 to 3, 4 to 8 or greater than 8\n",
    "    -  Number of times that he/she buys takeaway food: 0, less than 1, 1 to 3, 4 to 8 or greater\n",
    "    than 8\n",
    "    -  Number of times that he/she goes to a coffee house: 0, less than 1, 1 to 3, 4 to 8 or\n",
    "    greater than 8\n",
    "    -  Number of times that he/she eats at a restaurant with average expense less than \\\\$20 per\n",
    "    person: 0, less than 1, 1 to 3, 4 to 8 or greater than 8\n",
    "    -  Number of times that he/she goes to a bar: 0, less than 1, 1 to 3, 4 to 8 or greater than 8\n",
    "    \n",
    "\n",
    "2. Contextual attributes\n",
    "    - Driving destination: home, work, or no urgent destination\n",
    "    - Location of user, coupon and destination: we provide a map to show the geographical\n",
    "    location of the user, destination, and the venue, and we mark the distance between each\n",
    "    two places with time of driving. The user can see whether the venue is in the same\n",
    "    direction as the destination.\n",
    "    - Weather: sunny, rainy, or snowy\n",
    "    - Temperature: 30F, 55F, or 80F\n",
    "    - Time: 10AM, 2PM, or 6PM\n",
    "    - Passenger: alone, partner, kid(s), or friend(s)\n",
    "\n",
    "\n",
    "3. Coupon attributes\n",
    "    - time before it expires: 2 hours or one day"
   ]
  },
  {
   "cell_type": "code",
   "execution_count": 364,
   "metadata": {
    "id": "dzNoP3o__qRG"
   },
   "outputs": [],
   "source": [
    "import matplotlib.pyplot as plt\n",
    "import seaborn as sns\n",
    "import pandas as pd\n",
    "import numpy as np"
   ]
  },
  {
   "cell_type": "markdown",
   "metadata": {
    "id": "Ct8pI1uE_qRG"
   },
   "source": [
    "### Step 1: Analyze Data\n",
    "\n",
    "1. Read in the `coupons.csv` file.\n"
   ]
  },
  {
   "cell_type": "code",
   "execution_count": 367,
   "metadata": {
    "id": "X0vbffYg_qRH"
   },
   "outputs": [],
   "source": [
    "data = pd.read_csv('data/coupons.csv')"
   ]
  },
  {
   "cell_type": "markdown",
   "metadata": {
    "id": "Ct8pI1uE_qRG"
   },
   "source": [
    "2. Explore data\n"
   ]
  },
  {
   "cell_type": "code",
   "execution_count": 370,
   "metadata": {
    "id": "TXofQ_DF_qRH",
    "outputId": "2fc96a2c-1112-4b54-f24f-dbb9bc88abfb"
   },
   "outputs": [
    {
     "data": {
      "text/html": [
       "<div>\n",
       "<style scoped>\n",
       "    .dataframe tbody tr th:only-of-type {\n",
       "        vertical-align: middle;\n",
       "    }\n",
       "\n",
       "    .dataframe tbody tr th {\n",
       "        vertical-align: top;\n",
       "    }\n",
       "\n",
       "    .dataframe thead th {\n",
       "        text-align: right;\n",
       "    }\n",
       "</style>\n",
       "<table border=\"1\" class=\"dataframe\">\n",
       "  <thead>\n",
       "    <tr style=\"text-align: right;\">\n",
       "      <th></th>\n",
       "      <th>destination</th>\n",
       "      <th>passanger</th>\n",
       "      <th>weather</th>\n",
       "      <th>temperature</th>\n",
       "      <th>time</th>\n",
       "      <th>coupon</th>\n",
       "      <th>expiration</th>\n",
       "      <th>gender</th>\n",
       "      <th>age</th>\n",
       "      <th>maritalStatus</th>\n",
       "      <th>...</th>\n",
       "      <th>CoffeeHouse</th>\n",
       "      <th>CarryAway</th>\n",
       "      <th>RestaurantLessThan20</th>\n",
       "      <th>Restaurant20To50</th>\n",
       "      <th>toCoupon_GEQ5min</th>\n",
       "      <th>toCoupon_GEQ15min</th>\n",
       "      <th>toCoupon_GEQ25min</th>\n",
       "      <th>direction_same</th>\n",
       "      <th>direction_opp</th>\n",
       "      <th>Y</th>\n",
       "    </tr>\n",
       "  </thead>\n",
       "  <tbody>\n",
       "    <tr>\n",
       "      <th>0</th>\n",
       "      <td>No Urgent Place</td>\n",
       "      <td>Alone</td>\n",
       "      <td>Sunny</td>\n",
       "      <td>55</td>\n",
       "      <td>2PM</td>\n",
       "      <td>Restaurant(&lt;20)</td>\n",
       "      <td>1d</td>\n",
       "      <td>Female</td>\n",
       "      <td>21</td>\n",
       "      <td>Unmarried partner</td>\n",
       "      <td>...</td>\n",
       "      <td>never</td>\n",
       "      <td>NaN</td>\n",
       "      <td>4~8</td>\n",
       "      <td>1~3</td>\n",
       "      <td>1</td>\n",
       "      <td>0</td>\n",
       "      <td>0</td>\n",
       "      <td>0</td>\n",
       "      <td>1</td>\n",
       "      <td>1</td>\n",
       "    </tr>\n",
       "    <tr>\n",
       "      <th>1</th>\n",
       "      <td>No Urgent Place</td>\n",
       "      <td>Friend(s)</td>\n",
       "      <td>Sunny</td>\n",
       "      <td>80</td>\n",
       "      <td>10AM</td>\n",
       "      <td>Coffee House</td>\n",
       "      <td>2h</td>\n",
       "      <td>Female</td>\n",
       "      <td>21</td>\n",
       "      <td>Unmarried partner</td>\n",
       "      <td>...</td>\n",
       "      <td>never</td>\n",
       "      <td>NaN</td>\n",
       "      <td>4~8</td>\n",
       "      <td>1~3</td>\n",
       "      <td>1</td>\n",
       "      <td>0</td>\n",
       "      <td>0</td>\n",
       "      <td>0</td>\n",
       "      <td>1</td>\n",
       "      <td>0</td>\n",
       "    </tr>\n",
       "    <tr>\n",
       "      <th>2</th>\n",
       "      <td>No Urgent Place</td>\n",
       "      <td>Friend(s)</td>\n",
       "      <td>Sunny</td>\n",
       "      <td>80</td>\n",
       "      <td>10AM</td>\n",
       "      <td>Carry out &amp; Take away</td>\n",
       "      <td>2h</td>\n",
       "      <td>Female</td>\n",
       "      <td>21</td>\n",
       "      <td>Unmarried partner</td>\n",
       "      <td>...</td>\n",
       "      <td>never</td>\n",
       "      <td>NaN</td>\n",
       "      <td>4~8</td>\n",
       "      <td>1~3</td>\n",
       "      <td>1</td>\n",
       "      <td>1</td>\n",
       "      <td>0</td>\n",
       "      <td>0</td>\n",
       "      <td>1</td>\n",
       "      <td>1</td>\n",
       "    </tr>\n",
       "    <tr>\n",
       "      <th>3</th>\n",
       "      <td>No Urgent Place</td>\n",
       "      <td>Friend(s)</td>\n",
       "      <td>Sunny</td>\n",
       "      <td>80</td>\n",
       "      <td>2PM</td>\n",
       "      <td>Coffee House</td>\n",
       "      <td>2h</td>\n",
       "      <td>Female</td>\n",
       "      <td>21</td>\n",
       "      <td>Unmarried partner</td>\n",
       "      <td>...</td>\n",
       "      <td>never</td>\n",
       "      <td>NaN</td>\n",
       "      <td>4~8</td>\n",
       "      <td>1~3</td>\n",
       "      <td>1</td>\n",
       "      <td>1</td>\n",
       "      <td>0</td>\n",
       "      <td>0</td>\n",
       "      <td>1</td>\n",
       "      <td>0</td>\n",
       "    </tr>\n",
       "    <tr>\n",
       "      <th>4</th>\n",
       "      <td>No Urgent Place</td>\n",
       "      <td>Friend(s)</td>\n",
       "      <td>Sunny</td>\n",
       "      <td>80</td>\n",
       "      <td>2PM</td>\n",
       "      <td>Coffee House</td>\n",
       "      <td>1d</td>\n",
       "      <td>Female</td>\n",
       "      <td>21</td>\n",
       "      <td>Unmarried partner</td>\n",
       "      <td>...</td>\n",
       "      <td>never</td>\n",
       "      <td>NaN</td>\n",
       "      <td>4~8</td>\n",
       "      <td>1~3</td>\n",
       "      <td>1</td>\n",
       "      <td>1</td>\n",
       "      <td>0</td>\n",
       "      <td>0</td>\n",
       "      <td>1</td>\n",
       "      <td>0</td>\n",
       "    </tr>\n",
       "  </tbody>\n",
       "</table>\n",
       "<p>5 rows × 26 columns</p>\n",
       "</div>"
      ],
      "text/plain": [
       "       destination  passanger weather  temperature  time  \\\n",
       "0  No Urgent Place      Alone   Sunny           55   2PM   \n",
       "1  No Urgent Place  Friend(s)   Sunny           80  10AM   \n",
       "2  No Urgent Place  Friend(s)   Sunny           80  10AM   \n",
       "3  No Urgent Place  Friend(s)   Sunny           80   2PM   \n",
       "4  No Urgent Place  Friend(s)   Sunny           80   2PM   \n",
       "\n",
       "                  coupon expiration  gender age      maritalStatus  ...  \\\n",
       "0        Restaurant(<20)         1d  Female  21  Unmarried partner  ...   \n",
       "1           Coffee House         2h  Female  21  Unmarried partner  ...   \n",
       "2  Carry out & Take away         2h  Female  21  Unmarried partner  ...   \n",
       "3           Coffee House         2h  Female  21  Unmarried partner  ...   \n",
       "4           Coffee House         1d  Female  21  Unmarried partner  ...   \n",
       "\n",
       "   CoffeeHouse CarryAway RestaurantLessThan20 Restaurant20To50  \\\n",
       "0        never       NaN                  4~8              1~3   \n",
       "1        never       NaN                  4~8              1~3   \n",
       "2        never       NaN                  4~8              1~3   \n",
       "3        never       NaN                  4~8              1~3   \n",
       "4        never       NaN                  4~8              1~3   \n",
       "\n",
       "  toCoupon_GEQ5min toCoupon_GEQ15min toCoupon_GEQ25min direction_same  \\\n",
       "0                1                 0                 0              0   \n",
       "1                1                 0                 0              0   \n",
       "2                1                 1                 0              0   \n",
       "3                1                 1                 0              0   \n",
       "4                1                 1                 0              0   \n",
       "\n",
       "  direction_opp  Y  \n",
       "0             1  1  \n",
       "1             1  0  \n",
       "2             1  1  \n",
       "3             1  0  \n",
       "4             1  0  \n",
       "\n",
       "[5 rows x 26 columns]"
      ]
     },
     "execution_count": 370,
     "metadata": {},
     "output_type": "execute_result"
    }
   ],
   "source": [
    "#Print top data rows\n",
    "data.head()"
   ]
  },
  {
   "cell_type": "code",
   "execution_count": 372,
   "metadata": {},
   "outputs": [
    {
     "name": "stdout",
     "output_type": "stream",
     "text": [
      "<class 'pandas.core.frame.DataFrame'>\n",
      "RangeIndex: 12684 entries, 0 to 12683\n",
      "Data columns (total 26 columns):\n",
      " #   Column                Non-Null Count  Dtype \n",
      "---  ------                --------------  ----- \n",
      " 0   destination           12684 non-null  object\n",
      " 1   passanger             12684 non-null  object\n",
      " 2   weather               12684 non-null  object\n",
      " 3   temperature           12684 non-null  int64 \n",
      " 4   time                  12684 non-null  object\n",
      " 5   coupon                12684 non-null  object\n",
      " 6   expiration            12684 non-null  object\n",
      " 7   gender                12684 non-null  object\n",
      " 8   age                   12684 non-null  object\n",
      " 9   maritalStatus         12684 non-null  object\n",
      " 10  has_children          12684 non-null  int64 \n",
      " 11  education             12684 non-null  object\n",
      " 12  occupation            12684 non-null  object\n",
      " 13  income                12684 non-null  object\n",
      " 14  car                   108 non-null    object\n",
      " 15  Bar                   12577 non-null  object\n",
      " 16  CoffeeHouse           12467 non-null  object\n",
      " 17  CarryAway             12533 non-null  object\n",
      " 18  RestaurantLessThan20  12554 non-null  object\n",
      " 19  Restaurant20To50      12495 non-null  object\n",
      " 20  toCoupon_GEQ5min      12684 non-null  int64 \n",
      " 21  toCoupon_GEQ15min     12684 non-null  int64 \n",
      " 22  toCoupon_GEQ25min     12684 non-null  int64 \n",
      " 23  direction_same        12684 non-null  int64 \n",
      " 24  direction_opp         12684 non-null  int64 \n",
      " 25  Y                     12684 non-null  int64 \n",
      "dtypes: int64(8), object(18)\n",
      "memory usage: 2.5+ MB\n",
      "None\n"
     ]
    },
    {
     "data": {
      "text/html": [
       "<div>\n",
       "<style scoped>\n",
       "    .dataframe tbody tr th:only-of-type {\n",
       "        vertical-align: middle;\n",
       "    }\n",
       "\n",
       "    .dataframe tbody tr th {\n",
       "        vertical-align: top;\n",
       "    }\n",
       "\n",
       "    .dataframe thead th {\n",
       "        text-align: right;\n",
       "    }\n",
       "</style>\n",
       "<table border=\"1\" class=\"dataframe\">\n",
       "  <thead>\n",
       "    <tr style=\"text-align: right;\">\n",
       "      <th></th>\n",
       "      <th>temperature</th>\n",
       "      <th>has_children</th>\n",
       "      <th>toCoupon_GEQ5min</th>\n",
       "      <th>toCoupon_GEQ15min</th>\n",
       "      <th>toCoupon_GEQ25min</th>\n",
       "      <th>direction_same</th>\n",
       "      <th>direction_opp</th>\n",
       "      <th>Y</th>\n",
       "    </tr>\n",
       "  </thead>\n",
       "  <tbody>\n",
       "    <tr>\n",
       "      <th>count</th>\n",
       "      <td>12684.000000</td>\n",
       "      <td>12684.000000</td>\n",
       "      <td>12684.0</td>\n",
       "      <td>12684.000000</td>\n",
       "      <td>12684.000000</td>\n",
       "      <td>12684.000000</td>\n",
       "      <td>12684.000000</td>\n",
       "      <td>12684.000000</td>\n",
       "    </tr>\n",
       "    <tr>\n",
       "      <th>mean</th>\n",
       "      <td>63.301798</td>\n",
       "      <td>0.414144</td>\n",
       "      <td>1.0</td>\n",
       "      <td>0.561495</td>\n",
       "      <td>0.119126</td>\n",
       "      <td>0.214759</td>\n",
       "      <td>0.785241</td>\n",
       "      <td>0.568433</td>\n",
       "    </tr>\n",
       "    <tr>\n",
       "      <th>std</th>\n",
       "      <td>19.154486</td>\n",
       "      <td>0.492593</td>\n",
       "      <td>0.0</td>\n",
       "      <td>0.496224</td>\n",
       "      <td>0.323950</td>\n",
       "      <td>0.410671</td>\n",
       "      <td>0.410671</td>\n",
       "      <td>0.495314</td>\n",
       "    </tr>\n",
       "    <tr>\n",
       "      <th>min</th>\n",
       "      <td>30.000000</td>\n",
       "      <td>0.000000</td>\n",
       "      <td>1.0</td>\n",
       "      <td>0.000000</td>\n",
       "      <td>0.000000</td>\n",
       "      <td>0.000000</td>\n",
       "      <td>0.000000</td>\n",
       "      <td>0.000000</td>\n",
       "    </tr>\n",
       "    <tr>\n",
       "      <th>25%</th>\n",
       "      <td>55.000000</td>\n",
       "      <td>0.000000</td>\n",
       "      <td>1.0</td>\n",
       "      <td>0.000000</td>\n",
       "      <td>0.000000</td>\n",
       "      <td>0.000000</td>\n",
       "      <td>1.000000</td>\n",
       "      <td>0.000000</td>\n",
       "    </tr>\n",
       "    <tr>\n",
       "      <th>50%</th>\n",
       "      <td>80.000000</td>\n",
       "      <td>0.000000</td>\n",
       "      <td>1.0</td>\n",
       "      <td>1.000000</td>\n",
       "      <td>0.000000</td>\n",
       "      <td>0.000000</td>\n",
       "      <td>1.000000</td>\n",
       "      <td>1.000000</td>\n",
       "    </tr>\n",
       "    <tr>\n",
       "      <th>75%</th>\n",
       "      <td>80.000000</td>\n",
       "      <td>1.000000</td>\n",
       "      <td>1.0</td>\n",
       "      <td>1.000000</td>\n",
       "      <td>0.000000</td>\n",
       "      <td>0.000000</td>\n",
       "      <td>1.000000</td>\n",
       "      <td>1.000000</td>\n",
       "    </tr>\n",
       "    <tr>\n",
       "      <th>max</th>\n",
       "      <td>80.000000</td>\n",
       "      <td>1.000000</td>\n",
       "      <td>1.0</td>\n",
       "      <td>1.000000</td>\n",
       "      <td>1.000000</td>\n",
       "      <td>1.000000</td>\n",
       "      <td>1.000000</td>\n",
       "      <td>1.000000</td>\n",
       "    </tr>\n",
       "  </tbody>\n",
       "</table>\n",
       "</div>"
      ],
      "text/plain": [
       "        temperature  has_children  toCoupon_GEQ5min  toCoupon_GEQ15min  \\\n",
       "count  12684.000000  12684.000000           12684.0       12684.000000   \n",
       "mean      63.301798      0.414144               1.0           0.561495   \n",
       "std       19.154486      0.492593               0.0           0.496224   \n",
       "min       30.000000      0.000000               1.0           0.000000   \n",
       "25%       55.000000      0.000000               1.0           0.000000   \n",
       "50%       80.000000      0.000000               1.0           1.000000   \n",
       "75%       80.000000      1.000000               1.0           1.000000   \n",
       "max       80.000000      1.000000               1.0           1.000000   \n",
       "\n",
       "       toCoupon_GEQ25min  direction_same  direction_opp             Y  \n",
       "count       12684.000000    12684.000000   12684.000000  12684.000000  \n",
       "mean            0.119126        0.214759       0.785241      0.568433  \n",
       "std             0.323950        0.410671       0.410671      0.495314  \n",
       "min             0.000000        0.000000       0.000000      0.000000  \n",
       "25%             0.000000        0.000000       1.000000      0.000000  \n",
       "50%             0.000000        0.000000       1.000000      1.000000  \n",
       "75%             0.000000        0.000000       1.000000      1.000000  \n",
       "max             1.000000        1.000000       1.000000      1.000000  "
      ]
     },
     "execution_count": 372,
     "metadata": {},
     "output_type": "execute_result"
    }
   ],
   "source": [
    "#Review the data\n",
    "print(data.info())\n",
    "\n",
    "#Review the numerical data\n",
    "data.describe()"
   ]
  },
  {
   "cell_type": "markdown",
   "metadata": {
    "id": "GcDs78ZH_qRH"
   },
   "source": [
    "3. Investigate the dataset for missing or problematic data."
   ]
  },
  {
   "cell_type": "code",
   "execution_count": 375,
   "metadata": {
    "id": "6CwL6oWj_qRH"
   },
   "outputs": [
    {
     "data": {
      "text/plain": [
       "destination                 0\n",
       "passanger                   0\n",
       "weather                     0\n",
       "temperature                 0\n",
       "time                        0\n",
       "coupon                      0\n",
       "expiration                  0\n",
       "gender                      0\n",
       "age                         0\n",
       "maritalStatus               0\n",
       "has_children                0\n",
       "education                   0\n",
       "occupation                  0\n",
       "income                      0\n",
       "car                     12576\n",
       "Bar                       107\n",
       "CoffeeHouse               217\n",
       "CarryAway                 151\n",
       "RestaurantLessThan20      130\n",
       "Restaurant20To50          189\n",
       "toCoupon_GEQ5min            0\n",
       "toCoupon_GEQ15min           0\n",
       "toCoupon_GEQ25min           0\n",
       "direction_same              0\n",
       "direction_opp               0\n",
       "Y                           0\n",
       "dtype: int64"
      ]
     },
     "execution_count": 375,
     "metadata": {},
     "output_type": "execute_result"
    }
   ],
   "source": [
    "data.isna().sum()"
   ]
  },
  {
   "cell_type": "markdown",
   "metadata": {
    "id": "bSdVSpYB_qRH"
   },
   "source": [
    "4. Dealing with missing data. For now, I would drop Bar, CoffeeHouse, CarryAway, \n",
    "RestaurantLessThan2 and R\n",
    "Restaurant20To NaN values.\n",
    "   I would replace the NaN car values to \"UNKNOWN\"        "
   ]
  },
  {
   "cell_type": "code",
   "execution_count": 378,
   "metadata": {
    "id": "tyvoAC5F_qRI"
   },
   "outputs": [
    {
     "data": {
      "text/plain": [
       "destination             0\n",
       "passanger               0\n",
       "weather                 0\n",
       "temperature             0\n",
       "time                    0\n",
       "coupon                  0\n",
       "expiration              0\n",
       "gender                  0\n",
       "age                     0\n",
       "maritalStatus           0\n",
       "has_children            0\n",
       "education               0\n",
       "occupation              0\n",
       "income                  0\n",
       "car                     0\n",
       "Bar                     0\n",
       "CoffeeHouse             0\n",
       "CarryAway               0\n",
       "RestaurantLessThan20    0\n",
       "Restaurant20To50        0\n",
       "toCoupon_GEQ5min        0\n",
       "toCoupon_GEQ15min       0\n",
       "toCoupon_GEQ25min       0\n",
       "direction_same          0\n",
       "direction_opp           0\n",
       "Y                       0\n",
       "dtype: int64"
      ]
     },
     "execution_count": 378,
     "metadata": {},
     "output_type": "execute_result"
    }
   ],
   "source": [
    "data = data.dropna(subset=['Bar', 'CoffeeHouse', 'CarryAway', 'RestaurantLessThan20', 'Restaurant20To50'])\n",
    "\n",
    "data[['car']] = data[['car']].fillna('UNKNOWN')\n",
    "data.isna().sum()\n",
    "#Replace NaN car values with UNKNOWN\n"
   ]
  },
  {
   "cell_type": "markdown",
   "metadata": {
    "id": "YE6oJbXd_qRI"
   },
   "source": [
    "5. What proportion of the total observations chose to accept the coupon?\n",
    "\n"
   ]
  },
  {
   "cell_type": "code",
   "execution_count": 381,
   "metadata": {
    "id": "86GGqBTv_qRI"
   },
   "outputs": [
    {
     "name": "stdout",
     "output_type": "stream",
     "text": [
      "accepted_coupon Y    6877\n",
      "dtype: int64\n",
      "Proportion of the total observations chose to accept the coupon is  56.93 %\n"
     ]
    }
   ],
   "source": [
    "#print(data[['Y']].loc[data['Y'] == 0].count())\n",
    "total_coupon = data[['Y']].count()\n",
    "accepted_coupon = data[['Y']].loc[data['Y'] == 1].count()\n",
    "print('accepted_coupon', accepted_coupon)\n",
    "accepted = (accepted_coupon * 100/ total_coupon).values[0]\n",
    "print(f\"Proportion of the total observations chose to accept the coupon is {accepted: .2f} %\"  )\n",
    "\n",
    "#print(data[['Y']].groupby(['Y']).sum())"
   ]
  },
  {
   "cell_type": "markdown",
   "metadata": {
    "id": "vflz0DoE_qRI"
   },
   "source": [
    "6. Let's use a bar plot to visualize the `coupon` column."
   ]
  },
  {
   "cell_type": "code",
   "execution_count": 384,
   "metadata": {
    "id": "dHFh3E45_qRI"
   },
   "outputs": [
    {
     "data": {
      "text/plain": [
       "Text(0, 0.5, 'Count')"
      ]
     },
     "execution_count": 384,
     "metadata": {},
     "output_type": "execute_result"
    },
    {
     "data": {
      "image/png": "[encoded data removed]",
      "text/plain": [
       "<Figure size 640x480 with 1 Axes>"
      ]
     },
     "metadata": {},
     "output_type": "display_data"
    }
   ],
   "source": [
    "data[['coupon']].groupby(['coupon']).size()\n",
    "\n",
    "sns.countplot(data=data, x='coupon')\n",
    "plt.xticks(rotation=90)\n",
    "plt.xlabel('Coupon')\n",
    "plt.ylabel('Count')"
   ]
  },
  {
   "cell_type": "markdown",
   "metadata": {
    "id": "Qw4lCyx2_qRI"
   },
   "source": [
    "7. Using a histogram to visualize the temperature column."
   ]
  },
  {
   "cell_type": "code",
   "execution_count": 387,
   "metadata": {
    "id": "Yg9Anv71_qRI"
   },
   "outputs": [
    {
     "data": {
      "text/plain": [
       "<Axes: xlabel='temperature', ylabel='Count'>"
      ]
     },
     "execution_count": 387,
     "metadata": {},
     "output_type": "execute_result"
    },
    {
     "data": {
      "image/png": "[encoded data removed]",
      "text/plain": [
       "<Figure size 640x480 with 1 Axes>"
      ]
     },
     "metadata": {},
     "output_type": "display_data"
    }
   ],
   "source": [
    "sns.histplot(data=data['temperature'])"
   ]
  },
  {
   "cell_type": "markdown",
   "metadata": {
    "id": "FupfgeJk_qRJ"
   },
   "source": [
    "*** Step 2: Build Hypothesis on the Coupon Approval\n",
    "\n",
    "1. Create a new `DataFrame` that contains just the bar coupons.\n"
   ]
  },
  {
   "cell_type": "code",
   "execution_count": 390,
   "metadata": {
    "id": "tMBlWuGq_qRJ"
   },
   "outputs": [
    {
     "name": "stdout",
     "output_type": "stream",
     "text": [
      "coupon\n",
      "Bar                      1913\n",
      "Carry out & Take away    2280\n",
      "Coffee House             3816\n",
      "Restaurant(20-50)        1417\n",
      "Restaurant(<20)          2653\n",
      "dtype: int64\n"
     ]
    },
    {
     "data": {
      "text/html": [
       "<div>\n",
       "<style scoped>\n",
       "    .dataframe tbody tr th:only-of-type {\n",
       "        vertical-align: middle;\n",
       "    }\n",
       "\n",
       "    .dataframe tbody tr th {\n",
       "        vertical-align: top;\n",
       "    }\n",
       "\n",
       "    .dataframe thead th {\n",
       "        text-align: right;\n",
       "    }\n",
       "</style>\n",
       "<table border=\"1\" class=\"dataframe\">\n",
       "  <thead>\n",
       "    <tr style=\"text-align: right;\">\n",
       "      <th></th>\n",
       "      <th>coupon</th>\n",
       "    </tr>\n",
       "  </thead>\n",
       "  <tbody>\n",
       "    <tr>\n",
       "      <th>22</th>\n",
       "      <td>Restaurant(&lt;20)</td>\n",
       "    </tr>\n",
       "    <tr>\n",
       "      <th>23</th>\n",
       "      <td>Coffee House</td>\n",
       "    </tr>\n",
       "    <tr>\n",
       "      <th>24</th>\n",
       "      <td>Bar</td>\n",
       "    </tr>\n",
       "    <tr>\n",
       "      <th>25</th>\n",
       "      <td>Carry out &amp; Take away</td>\n",
       "    </tr>\n",
       "    <tr>\n",
       "      <th>26</th>\n",
       "      <td>Coffee House</td>\n",
       "    </tr>\n",
       "    <tr>\n",
       "      <th>...</th>\n",
       "      <td>...</td>\n",
       "    </tr>\n",
       "    <tr>\n",
       "      <th>12679</th>\n",
       "      <td>Carry out &amp; Take away</td>\n",
       "    </tr>\n",
       "    <tr>\n",
       "      <th>12680</th>\n",
       "      <td>Carry out &amp; Take away</td>\n",
       "    </tr>\n",
       "    <tr>\n",
       "      <th>12681</th>\n",
       "      <td>Coffee House</td>\n",
       "    </tr>\n",
       "    <tr>\n",
       "      <th>12682</th>\n",
       "      <td>Bar</td>\n",
       "    </tr>\n",
       "    <tr>\n",
       "      <th>12683</th>\n",
       "      <td>Restaurant(20-50)</td>\n",
       "    </tr>\n",
       "  </tbody>\n",
       "</table>\n",
       "<p>12079 rows × 1 columns</p>\n",
       "</div>"
      ],
      "text/plain": [
       "                      coupon\n",
       "22           Restaurant(<20)\n",
       "23              Coffee House\n",
       "24                       Bar\n",
       "25     Carry out & Take away\n",
       "26              Coffee House\n",
       "...                      ...\n",
       "12679  Carry out & Take away\n",
       "12680  Carry out & Take away\n",
       "12681           Coffee House\n",
       "12682                    Bar\n",
       "12683      Restaurant(20-50)\n",
       "\n",
       "[12079 rows x 1 columns]"
      ]
     },
     "execution_count": 390,
     "metadata": {},
     "output_type": "execute_result"
    }
   ],
   "source": [
    "print (data.groupby('coupon').size())\n",
    "coupon_data = data[['coupon']]\n",
    "coupon_data"
   ]
  },
  {
   "cell_type": "markdown",
   "metadata": {
    "id": "8ue6uCqf_qRJ"
   },
   "source": [
    "2. Let's examine What proportion of bar coupons were accepted?\n"
   ]
  },
  {
   "cell_type": "code",
   "execution_count": 393,
   "metadata": {
    "id": "hSdte8Mi_qRK"
   },
   "outputs": [
    {
     "name": "stdout",
     "output_type": "stream",
     "text": [
      "Proportion of the total observations chose to accept the coupon is  41.19 %\n"
     ]
    }
   ],
   "source": [
    "accepted_bar_coupons = data.query('coupon == \"Bar\" & Y == 1' )[['coupon']].count()\n",
    "all_bar_coupons = data.query('coupon == \"Bar\"' )[['coupon']].count()\n",
    "#print('proportion of bar coupons were accepted:', (accepted_bar_coupons/all_bar_coupons).values[0])\n",
    "#print((accepted_bar_coupons/all_bar_coupons).values[0])\n",
    "print(f\"Proportion of the total observations chose to accept the coupon is {(accepted_bar_coupons * 100/all_bar_coupons).values[0]: .2f} %\"  )"
   ]
  },
  {
   "cell_type": "markdown",
   "metadata": {
    "id": "85nA_iEi_qRK"
   },
   "source": [
    "3. Let's compare the acceptance rate between those who went to a bar 3 or fewer times a month to those who went more.\n"
   ]
  },
  {
   "cell_type": "code",
   "execution_count": 396,
   "metadata": {},
   "outputs": [
    {
     "data": {
      "text/plain": [
       "age\n",
       "20     504\n",
       "21    2537\n",
       "26    2399\n",
       "31    1925\n",
       "36    1253\n",
       "41    1065\n",
       "46     664\n",
       "51    1732\n",
       "dtype: int64"
      ]
     },
     "execution_count": 396,
     "metadata": {},
     "output_type": "execute_result"
    }
   ],
   "source": [
    "# We need to fix few data values for age. There are string values in thuis field, such as below21 and 50plus\n",
    "#Let's replace below21 with 20 and 50plus with 51 \n",
    "data['age'] = data['age'].replace('below21', 20)\n",
    "data['age'] = data['age'].replace('50plus', 51)\n",
    "data['age'] = data['age'].astype(int)\n",
    "data.groupby(['age']).size()"
   ]
  },
  {
   "cell_type": "code",
   "execution_count": 398,
   "metadata": {
    "id": "LBOrN-XM_qRK"
   },
   "outputs": [
    {
     "name": "stdout",
     "output_type": "stream",
     "text": [
      "Acceptance rate between those who went to a bar 3 or fewer times a month to those who went more is 3.35 \n"
     ]
    }
   ],
   "source": [
    "#Let's calculate the acceptance rate between those who went to a bar 3 or fewer times a month to those who went more.\n",
    "acceptance_rate_3_or_fewer = data.query(\"(Bar == 'less1' | Bar == '1~3') & (Y == 1 & coupon == 'Bar')\")[['Y']].count()\n",
    "acceptance_rate_greater_than_3 = data.query(\"(Bar == '4~8' | Bar == 'gt8') & (Y == 1 & coupon == 'Bar')\")[['Y']].count()\n",
    "#acceptance_rate_greater_than_3 = data.query('Bar == (\"4~8 | gt8)\"').count()\n",
    "#data[['Bar']].groupby(['Bar']).size()\n",
    "ratio = (acceptance_rate_3_or_fewer/acceptance_rate_greater_than_3).values[0]\n",
    "print(f\"Acceptance rate between those who went to a bar 3 or fewer times a month to those who went more is {ratio:.2f} \"  )"
   ]
  },
  {
   "cell_type": "markdown",
   "metadata": {
    "id": "RBgcQwH4_qRK"
   },
   "source": [
    "4. Let's compare the acceptance rate between drivers who go to a bar more than once a month and are over the age of 25 to the all others.  Is there a difference?\n"
   ]
  },
  {
   "cell_type": "code",
   "execution_count": 401,
   "metadata": {
    "id": "bf28bbeX_qRK"
   },
   "outputs": [
    {
     "name": "stdout",
     "output_type": "stream",
     "text": [
      "Acceptance rate between drivers who go to a bar more than once a month and are over the age of 25 to the all others is 0.35 \n"
     ]
    }
   ],
   "source": [
    "acceptance_rate_bar_gt_monthplus_and_over_25 = data.query(\"( Bar == '1~3' | Bar == '4~8' | Bar == 'gt8') & (age > 25) & (Y == 1 & coupon == 'Bar')\")[['Y']].count()\n",
    "total_acceptance_rate = data.query(\"Y == 1 & coupon == 'Bar'\")[['Y']].count()\n",
    "ratio = (acceptance_rate_bar_gt_monthplus_and_over_25/total_acceptance_rate).values[0]\n",
    "print(f\"Acceptance rate between drivers who go to a bar more than once a month and are over the age of 25 to the all others is {ratio:.2f} \"  )"
   ]
  },
  {
   "cell_type": "markdown",
   "metadata": {
    "id": "S4RKT4PJ_qRK"
   },
   "source": [
    "5 .Let's compare the acceptance rate between drivers who go to bars more than once a month and had passengers that were not a kid and had occupations other than farming, fishing, or forestry.\n"
   ]
  },
  {
   "cell_type": "code",
   "execution_count": 404,
   "metadata": {
    "id": "sENaI2Tg_qRK"
   },
   "outputs": [
    {
     "name": "stdout",
     "output_type": "stream",
     "text": [
      "\n",
      "Acceptance rate between drivers who go to a bar more than once a month and are over the age of 25 to the all others is: 0.02 \n"
     ]
    }
   ],
   "source": [
    "\n",
    "drivers_bars_gt_once_month = \"( Bar == '1~3' | Bar == '4~8' | Bar == 'gt8')\"\n",
    "passengers_with_no_kid = \"has_children == 0\"\n",
    "occupations_non_farming_fishing_forestry = \"occupation != 'Farming Fishing & Forestry'\"\n",
    "accepted_coupons = \"Y == 1 & coupon == 'Bar'\"\n",
    "#print (data.query(occupations_non_farming_fishing_forestry)[['occupation']].groupby('occupation').size())\n",
    "acceptance_rate = data.query(drivers_bars_gt_once_month + \" & \" \n",
    "                             + passengers_with_no_kid + \" & \" + occupations_non_farming_fishing_forestry\n",
    "                             + \" & \" + accepted_coupons) [['Y']].count()\n",
    "print ()\n",
    "\n",
    "print(f\"Acceptance rate between drivers who go to a bar more than once a month\"\n",
    "      f\" and are over the age of 25 to the all others is:\"\n",
    "      f\" {(acceptance_rate /(data[['Y']].count())).values[0]:.2f} \"  )\n"
   ]
  },
  {
   "cell_type": "markdown",
   "metadata": {
    "id": "n2LIUTil_qRK"
   },
   "source": [
    "6. Compare the acceptance rates between those drivers who:\n",
    "\n",
    "- go to bars more than once a month, had passengers that were not a kid, and were not widowed *OR*\n",
    "- go to bars more than once a month and are under the age of 30 *OR*\n",
    "- go to cheap restaurants more than 4 times a month and income is less than 50K.\n",
    "\n"
   ]
  },
  {
   "cell_type": "code",
   "execution_count": 439,
   "metadata": {
    "id": "aK_wEzx7_qRK"
   },
   "outputs": [
    {
     "name": "stdout",
     "output_type": "stream",
     "text": [
      "accepted_coupon_count_bar Y    788\n",
      "dtype: int64\n",
      "Acceptance rate for drivers that go to bars more than once a month, had passengers that were not a kid, and were not widowed is 35.91 %\n",
      "Acceptance rate for drivers that go to bars more than once a month and are under the age of 30 is 29.95 %\n",
      "Acceptance rate for drivers that go to cheap restaurants more than 4 times a month and income is less than 50K is 15.23 %\n"
     ]
    },
    {
     "data": {
      "text/plain": [
       "<Axes: xlabel='Acceptance Group', ylabel='Acceptance Rate %'>"
      ]
     },
     "execution_count": 439,
     "metadata": {},
     "output_type": "execute_result"
    },
    {
     "data": {
      "image/png": "[encoded data removed]",
      "text/plain": [
       "<Figure size 640x480 with 1 Axes>"
      ]
     },
     "metadata": {},
     "output_type": "display_data"
    }
   ],
   "source": [
    "#######Condition 1: Drivers who go to bars more than once a month, had passengers that were not a kid, and were not widowed########\n",
    "goes_to_bars_more_than_once_a_month = drivers_bars_gt_once_month\n",
    "had_passengers_that_were_not_a_kid = passengers_with_no_kid\n",
    "were_not_widowed = \"maritalStatus != 'Widowed'\"\n",
    "\n",
    "boolean_string_1 = goes_to_bars_more_than_once_a_month  + \" & \" + had_passengers_that_were_not_a_kid + \" & \" +  were_not_widowed\n",
    "\n",
    "#######Condition 2: Drivers who go to bars more than once a month and are under the age of 30########\n",
    "under_the_age_of_30 = \"age < 30\"\n",
    "boolean_string_2 = goes_to_bars_more_than_once_a_month  + \" & \" + under_the_age_of_30\n",
    "\n",
    "#######Condition 3: Drivers who go to cheap restaurants more than 4 times a month and income is less than 50K########\n",
    "go_to_cheap_restaurants_more_than_4_times_a_month = \"(RestaurantLessThan20 == '4~8' |RestaurantLessThan20 == 'gt8')\"\n",
    "income_is_less_than_50K = \"(income == '$12500 - $24999' |  income == '$25000 - $37499' | income == '$37500 - $49999')\"\n",
    "boolean_string_3 = go_to_cheap_restaurants_more_than_4_times_a_month + \" & \" + income_is_less_than_50K\n",
    "\n",
    "\n",
    "accepted_coupons = \"Y == 1 & coupon == 'Bar'\"\n",
    "accepted_coupon_count_bar = data.query(accepted_coupons)[['Y']].count()\n",
    "print(f\"accepted_coupon_count_bar {accepted_coupon_count_bar}\")\n",
    "\n",
    "acceptance_count_1 = data.query(boolean_string_1 + \" & \" + accepted_coupons)[['Y']].count()\n",
    "\n",
    "acceptance_rate_1 = (acceptance_count_1/(accepted_coupon_count_bar)).values[0]\n",
    "print(f\"Acceptance rate for drivers that go to bars more than once a month, had passengers that were not a kid, and were not widowed is {acceptance_rate_1 * 100:.2f} %\"  )\n",
    "#print(acceptance_rate_1)                               \n",
    "\n",
    "acceptance_count_2 = data.query(boolean_string_2 + \" & \" + accepted_coupons)[['Y']].count()\n",
    "acceptance_rate_2 = (acceptance_count_2/(accepted_coupon_count_bar)).values[0]\n",
    "print(f\"Acceptance rate for drivers that go to bars more than once a month and are under the age of 30 is {acceptance_rate_2 * 100:.2f} %\"  )\n",
    "\n",
    "query_string = boolean_string_3 + \" & \" + accepted_coupons\n",
    "#print (query_string)\n",
    "acceptance_count_3 = data.query(query_string)[['Y']].count()\n",
    "acceptance_rate_3 = (acceptance_count_3/(accepted_coupon_count_bar)).values[0]\n",
    "print(f\"Acceptance rate for drivers that go to cheap restaurants more than 4 times a month and income is less than 50K is {acceptance_rate_3 * 100:.2f} %\"  )\n",
    "\n",
    "data_acceptance = {'Acceptance Group': ['Group 1', 'Group 2', 'Group 3'],\n",
    "                   'Acceptance Rate %': [(acceptance_rate_1 * 100), (acceptance_rate_2 * 100), (acceptance_rate_3 * 100)]}\n",
    "df = pd.DataFrame(data_acceptance)\n",
    "\n",
    "sns.barplot(data= data_acceptance, x='Acceptance Group' , y='Acceptance Rate %')\n"
   ]
  },
  {
   "cell_type": "markdown",
   "metadata": {
    "id": "r4Hu1zOb_qRL"
   },
   "source": [
    "#### 7. Observations #1: Coupon Acceptance for Bar\n",
    "1. Acceptance rate for drivers that go to bars more than once a month, had passengers that were not a kid, and were not widowed is the highest at 35.91 %.\n",
    "2. Acceptance rate for drivers that go to bars more than once a month and are under the age of 30 is second at 29.95 %.\n",
    "3. Acceptance rate for drivers that go to cheap restaurants more than 4 times a month and income is less than 50K is third at 15.23 %.."
   ]
  },
  {
   "cell_type": "markdown",
   "metadata": {
    "id": "r4Hu1zOb_qRL"
   },
   "source": [
    "## Further Investigation with other Coupon Codes, such as Coupon for 'Coffee House'\n",
    "\n",
    "\n",
    "Let's investigate 3 groups:\n",
    "1. go to Coffee House more than once a month, had passengers that were not a kid, and were not widowed OR\r",
    "2. \n",
    "go toCoffee Houses more than once a month and are under the age of 30 OR3. \r\n",
    "go to cheap restaurants more than 4 times a month and income is less than 50K."
   ]
  },
  {
   "cell_type": "code",
   "execution_count": 458,
   "metadata": {
    "id": "RrqUWn7d_qRL"
   },
   "outputs": [
    {
     "name": "stdout",
     "output_type": "stream",
     "text": [
      "accepted_coupon_count_bar Y    1894\n",
      "dtype: int64\n",
      "Acceptance rate for drivers that go to Coffee House more than once a month, had passengers that were not a kid, and were not widowed is 40.13 %\n",
      "Acceptance rate for drivers that go to Coffee House more than once a month and are under the age of 30 is 34.27 %\n",
      "Acceptance rate for drivers that go to cheap restaurants more than 4 times a month and income is less than 50K is 16.58 %\n"
     ]
    },
    {
     "data": {
      "text/plain": [
       "<Axes: xlabel='Acceptance Group', ylabel='Acceptance Rate %'>"
      ]
     },
     "execution_count": 458,
     "metadata": {},
     "output_type": "execute_result"
    },
    {
     "data": {
      "image/png": "[encoded data removed]",
      "text/plain": [
       "<Figure size 640x480 with 1 Axes>"
      ]
     },
     "metadata": {},
     "output_type": "display_data"
    }
   ],
   "source": [
    "#######Condition 1: Drivers who go to Coffee House more than once a month, had passengers that were not a kid, and were not widowed########\n",
    "goes_to_Coffee_House_more_than_once_a_month = \"( CoffeeHouse  == '1~3' | CoffeeHouse == '4~8' | CoffeeHouse == 'gt8')\"\n",
    "\n",
    "\n",
    "had_passengers_that_were_not_a_kid = \"has_children == 0\"\n",
    "were_not_widowed = \"maritalStatus != 'Widowed'\"\n",
    "\n",
    "boolean_string_1 = goes_to_Coffee_House_more_than_once_a_month  + \" & \" + had_passengers_that_were_not_a_kid + \" & \" +  were_not_widowed\n",
    "\n",
    "#######Condition 2: Drivers who go to Coffee House more than once a month and are under the age of 30########\n",
    "under_the_age_of_30 = \"age < 30\"\n",
    "boolean_string_2 = goes_to_Coffee_House_more_than_once_a_month  + \" & \" + under_the_age_of_30\n",
    "\n",
    "#######Condition 3: Drivers who go to cheap restaurants more than 4 times a month and income is less than 50K########\n",
    "go_to_cheap_restaurants_more_than_4_times_a_month = \"(RestaurantLessThan20 == '4~8' |RestaurantLessThan20 == 'gt8')\"\n",
    "income_is_less_than_50K = \"(income == '$12500 - $24999' |  income == '$25000 - $37499' | income == '$37500 - $49999')\"\n",
    "boolean_string_3 = go_to_cheap_restaurants_more_than_4_times_a_month + \" & \" + income_is_less_than_50K\n",
    "\n",
    "\n",
    "accepted_coupons = \"Y == 1 & coupon == 'Coffee House'\"\n",
    "accepted_coupon_count_coffee_house = data.query(accepted_coupons)[['Y']].count()\n",
    "print(f\"accepted_coupon_count_bar {accepted_coupon_count_coffee_house}\")\n",
    "\n",
    "acceptance_count_1 = data.query(boolean_string_1 + \" & \" + accepted_coupons)[['Y']].count()\n",
    "\n",
    "acceptance_rate_1 = (acceptance_count_1/(accepted_coupon_count_coffee_house)).values[0]\n",
    "print(f\"Acceptance rate for drivers that go to Coffee House more than once a month, had passengers that were not a kid, and were not widowed is {acceptance_rate_1 * 100:.2f} %\"  )\n",
    "#print(acceptance_rate_1)                               \n",
    "\n",
    "acceptance_count_2 = data.query(boolean_string_2 + \" & \" + accepted_coupons)[['Y']].count()\n",
    "acceptance_rate_2 = (acceptance_count_2/(accepted_coupon_count_coffee_house)).values[0]\n",
    "print(f\"Acceptance rate for drivers that go to Coffee House more than once a month and are under the age of 30 is {acceptance_rate_2 * 100:.2f} %\"  )\n",
    "\n",
    "query_string = boolean_string_3 + \" & \" + accepted_coupons\n",
    "#print (query_string)\n",
    "acceptance_count_3 = data.query(query_string)[['Y']].count()\n",
    "acceptance_rate_3 = (acceptance_count_3/(accepted_coupon_count_coffee_house)).values[0]\n",
    "print(f\"Acceptance rate for drivers that go to cheap restaurants more than 4 times a month and income is less than 50K is {acceptance_rate_3 * 100:.2f} %\"  )\n",
    "\n",
    "data_acceptance = {'Acceptance Group': ['Group 1', 'Group 2', 'Group 3'],\n",
    "                   'Acceptance Rate %': [(acceptance_rate_1 * 100), (acceptance_rate_2 * 100), (acceptance_rate_3 * 100)]}\n",
    "df = pd.DataFrame(data_acceptance)\n",
    "\n",
    "sns.barplot(data= data_acceptance, x='Acceptance Group' , y='Acceptance Rate %')"
   ]
  },
  {
   "cell_type": "markdown",
   "metadata": {
    "id": "v3fL3QkO_qRK"
   },
   "source": [
    "#### Observations: Coupon Acceptance for Coffee House\n",
    "1.The highest acceptance rate is for drivers that go to Coffee House more than once a month, had passengers that were not a kid, and were not widowed is 40.13 %\n",
    "2. \n",
    "Acceptance rate for drivers that go to Coffee House more than once a month and are under the age of 30 is 34.27  is second.\n",
    "3. \r\n",
    "Acceptance rate for drivers that go to cheap restaurants more than 4 times a month and income is less than 50K is 16.58 is third. %%"
   ]
  },
  {
   "cell_type": "code",
   "execution_count": null,
   "metadata": {},
   "outputs": [],
   "source": []
  },
  {
   "cell_type": "code",
   "execution_count": null,
   "metadata": {},
   "outputs": [],
   "source": []
  },
  {
   "cell_type": "code",
   "execution_count": null,
   "metadata": {},
   "outputs": [],
   "source": []
  }
 ],
 "metadata": {
  "colab": {
   "provenance": []
  },
  "kernelspec": {
   "display_name": "Python 3 (ipykernel)",
   "language": "python",
   "name": "python3"
  },
  "language_info": {
   "codemirror_mode": {
    "name": "ipython",
    "version": 3
   },
   "file_extension": ".py",
   "mimetype": "text/x-python",
   "name": "python",
   "nbconvert_exporter": "python",
   "pygments_lexer": "ipython3",
   "version": "3.12.4"
  }
 },
 "nbformat": 4,
 "nbformat_minor": 4
}
